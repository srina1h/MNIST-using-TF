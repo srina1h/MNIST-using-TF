{
 "cells": [
  {
   "cell_type": "markdown",
   "metadata": {
    "colab_type": "text",
    "id": "iQjHqsmTAVLU"
   },
   "source": [
   ]
  },
  {
   "cell_type": "code",
   "execution_count": 1,
   "metadata": {},
   "outputs": [],
   "source": [
    "import tensorflow as tf\n",
    "from os import path, getcwd, chdir\n",
    "path = \"/mnist.npz\""
   ]
  },
  {
   "cell_type": "code",
   "execution_count": 2,
   "metadata": {},
   "outputs": [],
   "source": [
    "config = tf.ConfigProto()\n",
    "config.gpu_options.allow_growth = True\n",
    "sess = tf.Session(config=config)"
   ]
  },
  {
   "cell_type": "code",
   "execution_count": 7,
   "metadata": {},
   "outputs": [],
   "source": [
    "def train_mnist_conv():\n",
    "    class myCallback(tf.keras.callbacks.Callback):\n",
    "        def on_epoch_end(self, epoch, logs={}):\n",
    "            if(logs.get('loss')<0.002):\n",
    "                print(\"\\nReached 99.8% accuracy so cancelling training!\")\n",
    "                self.model.stop_training = True\n",
    "    \n",
    "    callbacks = myCallback()\n",
    "\n",
    "    mnist = tf.keras.datasets.mnist\n",
    "    (training_images, training_labels), (test_images, test_labels) = mnist.load_data(path=path)\n",
    "    \n",
    "    training_images=training_images.reshape(60000, 28, 28, 1)\n",
    "    training_images=training_images / 255.0\n",
    "    test_images = test_images.reshape(10000, 28, 28, 1)\n",
    "    test_images=test_images/255.0\n",
    "\n",
    "    model = tf.keras.models.Sequential([\n",
    "            tf.keras.layers.Conv2D(32, (3,3), activation='relu', input_shape=(28, 28, 1)),\n",
    "            tf.keras.layers.MaxPooling2D(2, 2),\n",
    "            tf.keras.layers.Flatten(),\n",
    "            tf.keras.layers.Dense(512, activation='relu'),\n",
    "            tf.keras.layers.Dense(10, activation='softmax')\n",
    "    ])\n",
    "\n",
    "    model.compile(optimizer='adam', loss='sparse_categorical_crossentropy', metrics=['accuracy'])\n",
    "\n",
    "    history = model.fit(\n",
    "        training_images,training_labels,epochs=19\n",
    "    )\n",
    "    return history.epoch, history.history['acc'][-1]\n",
    "\n"
   ]
  },
  {
   "cell_type": "code",
   "execution_count": 8,
   "metadata": {},
   "outputs": [
    {
     "name": "stdout",
     "output_type": "stream",
     "text": [
      "Epoch 1/19\n",
      "60000/60000 [==============================] - 18s 298us/sample - loss: 0.1305 - acc: 0.9599\n",
      "Epoch 2/19\n",
      "60000/60000 [==============================] - 19s 320us/sample - loss: 0.0445 - acc: 0.9859\n",
      "Epoch 3/19\n",
      "60000/60000 [==============================] - 20s 338us/sample - loss: 0.0254 - acc: 0.9919\n",
      "Epoch 4/19\n",
      "60000/60000 [==============================] - 20s 340us/sample - loss: 0.0158 - acc: 0.9952\n",
      "Epoch 5/19\n",
      "60000/60000 [==============================] - 20s 342us/sample - loss: 0.0118 - acc: 0.9960\n",
      "Epoch 6/19\n",
      "60000/60000 [==============================] - 18s 293us/sample - loss: 0.0084 - acc: 0.9973\n",
      "Epoch 7/19\n",
      "60000/60000 [==============================] - 18s 293us/sample - loss: 0.0068 - acc: 0.9976\n",
      "Epoch 8/19\n",
      "60000/60000 [==============================] - 18s 293us/sample - loss: 0.0053 - acc: 0.9982\n",
      "Epoch 9/19\n",
      "60000/60000 [==============================] - 18s 293us/sample - loss: 0.0050 - acc: 0.9986\n",
      "Epoch 10/19\n",
      "60000/60000 [==============================] - 18s 292us/sample - loss: 0.0038 - acc: 0.9988\n",
      "Epoch 11/19\n",
      "60000/60000 [==============================] - 17s 290us/sample - loss: 0.0038 - acc: 0.9987\n",
      "Epoch 12/19\n",
      "60000/60000 [==============================] - 17s 292us/sample - loss: 0.0029 - acc: 0.9991\n",
      "Epoch 13/19\n",
      "60000/60000 [==============================] - 18s 307us/sample - loss: 0.0032 - acc: 0.9989\n",
      "Epoch 14/19\n",
      "60000/60000 [==============================] - 18s 305us/sample - loss: 0.0023 - acc: 0.9993\n",
      "Epoch 15/19\n",
      "60000/60000 [==============================] - 18s 306us/sample - loss: 0.0036 - acc: 0.9991\n",
      "Epoch 16/19\n",
      "60000/60000 [==============================] - 18s 305us/sample - loss: 0.0025 - acc: 0.9992\n",
      "Epoch 17/19\n",
      "60000/60000 [==============================] - 18s 303us/sample - loss: 0.0017 - acc: 0.9994\n",
      "Epoch 18/19\n",
      "60000/60000 [==============================] - 18s 303us/sample - loss: 0.0026 - acc: 0.9992\n",
      "Epoch 19/19\n",
      "60000/60000 [==============================] - 18s 300us/sample - loss: 0.0019 - acc: 0.9994\n"
     ]
    }
   ],
   "source": [
    "_, _ = train_mnist_conv()"
   ]
  }
 ],
 "metadata": {
  "coursera": {
   "course_slug": "introduction-tensorflow",
   "graded_item_id": "ml06H",
   "launcher_item_id": "hQF8A"
  },
  "kernelspec": {
   "display_name": "Python 3",
   "language": "python",
   "name": "python3"
  },
  "language_info": {
   "codemirror_mode": {
    "name": "ipython",
    "version": 3
   },
   "file_extension": ".py",
   "mimetype": "text/x-python",
   "name": "python",
   "nbconvert_exporter": "python",
   "pygments_lexer": "ipython3",
   "version": "3.6.8"
  }
 },
 "nbformat": 4,
 "nbformat_minor": 1
}
